{
 "cells": [
  {
   "cell_type": "markdown",
   "id": "1e74e073-590f-4030-b12b-4cc289b28404",
   "metadata": {},
   "source": [
    "# Title"
   ]
  },
  {
   "cell_type": "markdown",
   "id": "6509b114-97ab-4f06-bbb5-7977d1b1b308",
   "metadata": {},
   "source": [
    "## Introduction"
   ]
  },
  {
   "cell_type": "markdown",
   "id": "587a4fda-c8fe-44a9-965b-b1a220dbcd3b",
   "metadata": {},
   "source": [
    "## Preliminary Results"
   ]
  },
  {
   "cell_type": "code",
   "execution_count": 1,
   "id": "7437b892-bc1b-4912-baa2-bd6b4d0755f4",
   "metadata": {
    "tags": []
   },
   "outputs": [
    {
     "name": "stderr",
     "output_type": "stream",
     "text": [
      "── \u001b[1mAttaching core tidyverse packages\u001b[22m ──────────────────────── tidyverse 2.0.0 ──\n",
      "\u001b[32m✔\u001b[39m \u001b[34mdplyr    \u001b[39m 1.1.3     \u001b[32m✔\u001b[39m \u001b[34mreadr    \u001b[39m 2.1.4\n",
      "\u001b[32m✔\u001b[39m \u001b[34mforcats  \u001b[39m 1.0.0     \u001b[32m✔\u001b[39m \u001b[34mstringr  \u001b[39m 1.5.0\n",
      "\u001b[32m✔\u001b[39m \u001b[34mggplot2  \u001b[39m 3.4.3     \u001b[32m✔\u001b[39m \u001b[34mtibble   \u001b[39m 3.2.1\n",
      "\u001b[32m✔\u001b[39m \u001b[34mlubridate\u001b[39m 1.9.2     \u001b[32m✔\u001b[39m \u001b[34mtidyr    \u001b[39m 1.3.0\n",
      "\u001b[32m✔\u001b[39m \u001b[34mpurrr    \u001b[39m 1.0.1     \n",
      "── \u001b[1mConflicts\u001b[22m ────────────────────────────────────────── tidyverse_conflicts() ──\n",
      "\u001b[31m✖\u001b[39m \u001b[34mdplyr\u001b[39m::\u001b[32mfilter()\u001b[39m masks \u001b[34mstats\u001b[39m::filter()\n",
      "\u001b[31m✖\u001b[39m \u001b[34mdplyr\u001b[39m::\u001b[32mlag()\u001b[39m    masks \u001b[34mstats\u001b[39m::lag()\n",
      "\u001b[36mℹ\u001b[39m Use the conflicted package (\u001b[3m\u001b[34m<http://conflicted.r-lib.org/>\u001b[39m\u001b[23m) to force all conflicts to become errors\n",
      "── \u001b[1mAttaching packages\u001b[22m ────────────────────────────────────── tidymodels 1.1.1 ──\n",
      "\n",
      "\u001b[32m✔\u001b[39m \u001b[34mbroom       \u001b[39m 1.0.5     \u001b[32m✔\u001b[39m \u001b[34mrsample     \u001b[39m 1.2.0\n",
      "\u001b[32m✔\u001b[39m \u001b[34mdials       \u001b[39m 1.2.0     \u001b[32m✔\u001b[39m \u001b[34mtune        \u001b[39m 1.1.2\n",
      "\u001b[32m✔\u001b[39m \u001b[34minfer       \u001b[39m 1.0.4     \u001b[32m✔\u001b[39m \u001b[34mworkflows   \u001b[39m 1.1.3\n",
      "\u001b[32m✔\u001b[39m \u001b[34mmodeldata   \u001b[39m 1.2.0     \u001b[32m✔\u001b[39m \u001b[34mworkflowsets\u001b[39m 1.0.1\n",
      "\u001b[32m✔\u001b[39m \u001b[34mparsnip     \u001b[39m 1.1.1     \u001b[32m✔\u001b[39m \u001b[34myardstick   \u001b[39m 1.2.0\n",
      "\u001b[32m✔\u001b[39m \u001b[34mrecipes     \u001b[39m 1.0.8     \n",
      "\n",
      "── \u001b[1mConflicts\u001b[22m ───────────────────────────────────────── tidymodels_conflicts() ──\n",
      "\u001b[31m✖\u001b[39m \u001b[34mscales\u001b[39m::\u001b[32mdiscard()\u001b[39m masks \u001b[34mpurrr\u001b[39m::discard()\n",
      "\u001b[31m✖\u001b[39m \u001b[34mdplyr\u001b[39m::\u001b[32mfilter()\u001b[39m   masks \u001b[34mstats\u001b[39m::filter()\n",
      "\u001b[31m✖\u001b[39m \u001b[34mrecipes\u001b[39m::\u001b[32mfixed()\u001b[39m  masks \u001b[34mstringr\u001b[39m::fixed()\n",
      "\u001b[31m✖\u001b[39m \u001b[34mdplyr\u001b[39m::\u001b[32mlag()\u001b[39m      masks \u001b[34mstats\u001b[39m::lag()\n",
      "\u001b[31m✖\u001b[39m \u001b[34myardstick\u001b[39m::\u001b[32mspec()\u001b[39m masks \u001b[34mreadr\u001b[39m::spec()\n",
      "\u001b[31m✖\u001b[39m \u001b[34mrecipes\u001b[39m::\u001b[32mstep()\u001b[39m   masks \u001b[34mstats\u001b[39m::step()\n",
      "\u001b[34m•\u001b[39m Dig deeper into tidy modeling with R at \u001b[32mhttps://www.tmwr.org\u001b[39m\n",
      "\n"
     ]
    }
   ],
   "source": [
    "library(tidyverse)\n",
    "library(tidymodels)\n",
    "set.seed(12345)"
   ]
  },
  {
   "cell_type": "code",
   "execution_count": 6,
   "id": "e6e4a3ab-6fcc-43d8-a660-f843a9e34ad6",
   "metadata": {
    "tags": []
   },
   "outputs": [
    {
     "name": "stderr",
     "output_type": "stream",
     "text": [
      "\u001b[1mRows: \u001b[22m\u001b[34m1361\u001b[39m \u001b[1mColumns: \u001b[22m\u001b[34m10\u001b[39m\n",
      "\u001b[36m──\u001b[39m \u001b[1mColumn specification\u001b[22m \u001b[36m────────────────────────────────────────────────────────\u001b[39m\n",
      "\u001b[1mDelimiter:\u001b[22m \",\"\n",
      "\u001b[31mchr\u001b[39m (3): TYPE, HUNDRED_BLOCK, NEIGHBOURHOOD\n",
      "\u001b[32mdbl\u001b[39m (7): YEAR, MONTH, DAY, HOUR, MINUTE, X, Y\n",
      "\n",
      "\u001b[36mℹ\u001b[39m Use `spec()` to retrieve the full column specification for this data.\n",
      "\u001b[36mℹ\u001b[39m Specify the column types or set `show_col_types = FALSE` to quiet this message.\n"
     ]
    },
    {
     "data": {
      "text/html": [
       "<table class=\"dataframe\">\n",
       "<caption>A tibble: 6 × 10</caption>\n",
       "<thead>\n",
       "\t<tr><th scope=col>TYPE</th><th scope=col>YEAR</th><th scope=col>MONTH</th><th scope=col>DAY</th><th scope=col>HOUR</th><th scope=col>MINUTE</th><th scope=col>HUNDRED_BLOCK</th><th scope=col>NEIGHBOURHOOD</th><th scope=col>X</th><th scope=col>Y</th></tr>\n",
       "\t<tr><th scope=col>&lt;chr&gt;</th><th scope=col>&lt;dbl&gt;</th><th scope=col>&lt;dbl&gt;</th><th scope=col>&lt;dbl&gt;</th><th scope=col>&lt;dbl&gt;</th><th scope=col>&lt;dbl&gt;</th><th scope=col>&lt;chr&gt;</th><th scope=col>&lt;chr&gt;</th><th scope=col>&lt;dbl&gt;</th><th scope=col>&lt;dbl&gt;</th></tr>\n",
       "</thead>\n",
       "<tbody>\n",
       "\t<tr><td>Break and Enter Commercial</td><td>2021</td><td> 6</td><td>21</td><td> 3</td><td> 0</td><td>14XX CHESTNUT ST</td><td>Kitsilano</td><td>489359.9</td><td>5457819</td></tr>\n",
       "\t<tr><td>Break and Enter Commercial</td><td>2021</td><td>12</td><td> 2</td><td> 7</td><td> 0</td><td>14XX MAPLE ST   </td><td>Kitsilano</td><td>489070.7</td><td>5457850</td></tr>\n",
       "\t<tr><td>Break and Enter Commercial</td><td>2021</td><td>10</td><td>12</td><td>16</td><td>14</td><td>16XX BALSAM ST  </td><td>Kitsilano</td><td>488376.0</td><td>5457672</td></tr>\n",
       "\t<tr><td>Break and Enter Commercial</td><td>2021</td><td> 4</td><td>28</td><td> 5</td><td>26</td><td>18XX BURRARD ST </td><td>Kitsilano</td><td>489406.1</td><td>5457447</td></tr>\n",
       "\t<tr><td>Break and Enter Commercial</td><td>2021</td><td> 7</td><td>11</td><td>22</td><td> 0</td><td>18XX W 4TH AVE  </td><td>Kitsilano</td><td>489344.1</td><td>5457257</td></tr>\n",
       "\t<tr><td>Break and Enter Commercial</td><td>2021</td><td> 4</td><td>18</td><td>19</td><td>25</td><td>18XX W 5TH AVE  </td><td>Kitsilano</td><td>489335.9</td><td>5457171</td></tr>\n",
       "</tbody>\n",
       "</table>\n"
      ],
      "text/latex": [
       "A tibble: 6 × 10\n",
       "\\begin{tabular}{llllllllll}\n",
       " TYPE & YEAR & MONTH & DAY & HOUR & MINUTE & HUNDRED\\_BLOCK & NEIGHBOURHOOD & X & Y\\\\\n",
       " <chr> & <dbl> & <dbl> & <dbl> & <dbl> & <dbl> & <chr> & <chr> & <dbl> & <dbl>\\\\\n",
       "\\hline\n",
       "\t Break and Enter Commercial & 2021 &  6 & 21 &  3 &  0 & 14XX CHESTNUT ST & Kitsilano & 489359.9 & 5457819\\\\\n",
       "\t Break and Enter Commercial & 2021 & 12 &  2 &  7 &  0 & 14XX MAPLE ST    & Kitsilano & 489070.7 & 5457850\\\\\n",
       "\t Break and Enter Commercial & 2021 & 10 & 12 & 16 & 14 & 16XX BALSAM ST   & Kitsilano & 488376.0 & 5457672\\\\\n",
       "\t Break and Enter Commercial & 2021 &  4 & 28 &  5 & 26 & 18XX BURRARD ST  & Kitsilano & 489406.1 & 5457447\\\\\n",
       "\t Break and Enter Commercial & 2021 &  7 & 11 & 22 &  0 & 18XX W 4TH AVE   & Kitsilano & 489344.1 & 5457257\\\\\n",
       "\t Break and Enter Commercial & 2021 &  4 & 18 & 19 & 25 & 18XX W 5TH AVE   & Kitsilano & 489335.9 & 5457171\\\\\n",
       "\\end{tabular}\n"
      ],
      "text/markdown": [
       "\n",
       "A tibble: 6 × 10\n",
       "\n",
       "| TYPE &lt;chr&gt; | YEAR &lt;dbl&gt; | MONTH &lt;dbl&gt; | DAY &lt;dbl&gt; | HOUR &lt;dbl&gt; | MINUTE &lt;dbl&gt; | HUNDRED_BLOCK &lt;chr&gt; | NEIGHBOURHOOD &lt;chr&gt; | X &lt;dbl&gt; | Y &lt;dbl&gt; |\n",
       "|---|---|---|---|---|---|---|---|---|---|\n",
       "| Break and Enter Commercial | 2021 |  6 | 21 |  3 |  0 | 14XX CHESTNUT ST | Kitsilano | 489359.9 | 5457819 |\n",
       "| Break and Enter Commercial | 2021 | 12 |  2 |  7 |  0 | 14XX MAPLE ST    | Kitsilano | 489070.7 | 5457850 |\n",
       "| Break and Enter Commercial | 2021 | 10 | 12 | 16 | 14 | 16XX BALSAM ST   | Kitsilano | 488376.0 | 5457672 |\n",
       "| Break and Enter Commercial | 2021 |  4 | 28 |  5 | 26 | 18XX BURRARD ST  | Kitsilano | 489406.1 | 5457447 |\n",
       "| Break and Enter Commercial | 2021 |  7 | 11 | 22 |  0 | 18XX W 4TH AVE   | Kitsilano | 489344.1 | 5457257 |\n",
       "| Break and Enter Commercial | 2021 |  4 | 18 | 19 | 25 | 18XX W 5TH AVE   | Kitsilano | 489335.9 | 5457171 |\n",
       "\n"
      ],
      "text/plain": [
       "  TYPE                       YEAR MONTH DAY HOUR MINUTE HUNDRED_BLOCK   \n",
       "1 Break and Enter Commercial 2021  6    21   3    0     14XX CHESTNUT ST\n",
       "2 Break and Enter Commercial 2021 12     2   7    0     14XX MAPLE ST   \n",
       "3 Break and Enter Commercial 2021 10    12  16   14     16XX BALSAM ST  \n",
       "4 Break and Enter Commercial 2021  4    28   5   26     18XX BURRARD ST \n",
       "5 Break and Enter Commercial 2021  7    11  22    0     18XX W 4TH AVE  \n",
       "6 Break and Enter Commercial 2021  4    18  19   25     18XX W 5TH AVE  \n",
       "  NEIGHBOURHOOD X        Y      \n",
       "1 Kitsilano     489359.9 5457819\n",
       "2 Kitsilano     489070.7 5457850\n",
       "3 Kitsilano     488376.0 5457672\n",
       "4 Kitsilano     489406.1 5457447\n",
       "5 Kitsilano     489344.1 5457257\n",
       "6 Kitsilano     489335.9 5457171"
      ]
     },
     "metadata": {},
     "output_type": "display_data"
    }
   ],
   "source": [
    "crime_data <- read_csv(\"data/crimedata_csv_Kitsilano_2021.csv\")\n",
    "head(crime_data)"
   ]
  },
  {
   "cell_type": "markdown",
   "id": "dcd2333e-4245-4685-b15d-5473914b1a75",
   "metadata": {},
   "source": [
    "## Method: Plan"
   ]
  },
  {
   "cell_type": "markdown",
   "id": "abe2b986-5179-4ca4-8b5a-6809df600bb4",
   "metadata": {},
   "source": [
    "## References"
   ]
  },
  {
   "cell_type": "code",
   "execution_count": null,
   "id": "720982b9-91a1-4fce-89f1-913b05c3416f",
   "metadata": {},
   "outputs": [],
   "source": []
  }
 ],
 "metadata": {
  "kernelspec": {
   "display_name": "R",
   "language": "R",
   "name": "ir"
  },
  "language_info": {
   "codemirror_mode": "r",
   "file_extension": ".r",
   "mimetype": "text/x-r-source",
   "name": "R",
   "pygments_lexer": "r",
   "version": "4.2.3"
  }
 },
 "nbformat": 4,
 "nbformat_minor": 5
}
