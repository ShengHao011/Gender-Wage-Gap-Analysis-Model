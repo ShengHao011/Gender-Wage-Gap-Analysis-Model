{
 "cells": [
  {
   "cell_type": "markdown",
   "id": "1e74e073-590f-4030-b12b-4cc289b28404",
   "metadata": {},
   "source": [
    "# Title"
   ]
  },
  {
   "cell_type": "markdown",
   "id": "6509b114-97ab-4f06-bbb5-7977d1b1b308",
   "metadata": {},
   "source": [
    "## Introduction"
   ]
  },
  {
   "cell_type": "markdown",
   "id": "587a4fda-c8fe-44a9-965b-b1a220dbcd3b",
   "metadata": {},
   "source": [
    "## Preliminary Results"
   ]
  },
  {
   "cell_type": "markdown",
   "id": "dcd2333e-4245-4685-b15d-5473914b1a75",
   "metadata": {},
   "source": [
    "## Method: Plan"
   ]
  },
  {
   "cell_type": "markdown",
   "id": "abe2b986-5179-4ca4-8b5a-6809df600bb4",
   "metadata": {},
   "source": [
    "## References"
   ]
  },
  {
   "cell_type": "code",
   "execution_count": null,
   "id": "720982b9-91a1-4fce-89f1-913b05c3416f",
   "metadata": {},
   "outputs": [],
   "source": []
  }
 ],
 "metadata": {
  "kernelspec": {
   "display_name": "R",
   "language": "R",
   "name": "ir"
  },
  "language_info": {
   "codemirror_mode": "r",
   "file_extension": ".r",
   "mimetype": "text/x-r-source",
   "name": "R",
   "pygments_lexer": "r",
   "version": "4.2.3"
  }
 },
 "nbformat": 4,
 "nbformat_minor": 5
}
